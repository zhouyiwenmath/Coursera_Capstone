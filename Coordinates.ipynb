{
 "cells": [
  {
   "cell_type": "markdown",
   "metadata": {},
   "source": [
    "### In this notebook, we extend our file \"Neighborhoods_Toronto.csv\" by adding coordinates"
   ]
  },
  {
   "cell_type": "code",
   "execution_count": 19,
   "metadata": {},
   "outputs": [],
   "source": [
    "import pandas as pd\n",
    "\n",
    "coo = pd.read_csv(\"Geospatial_Coordinates.csv\")\n",
    "df = pd.read_csv(\"Neighborhoods_Toronto.csv\")"
   ]
  },
  {
   "cell_type": "code",
   "execution_count": 20,
   "metadata": {},
   "outputs": [],
   "source": [
    "post = coo['Postal Code']\n",
    "post_df = df['PostalCode']\n",
    "\n",
    "Latitude = coo['Latitude']\n",
    "Longitude = coo['Longitude']"
   ]
  },
  {
   "cell_type": "code",
   "execution_count": 22,
   "metadata": {},
   "outputs": [
    {
     "name": "stdout",
     "output_type": "stream",
     "text": [
      "   Unnamed: 0 PostalCode           Borough                      Neighborhood  \\\n",
      "0           0        M3A        North York                         Parkwoods   \n",
      "1           1        M4A        North York                  Victoria Village   \n",
      "2           2        M5A  Downtown Toronto         Harbourfront, Regent Park   \n",
      "3           3        M6A        North York  Lawrence Heights, Lawrence Manor   \n",
      "4           4        M7A      Queen's Park                      Queen's Park   \n",
      "\n",
      "    Latitude  Longitude  \n",
      "0  43.753259 -79.329656  \n",
      "1  43.725882 -79.315572  \n",
      "2  43.654260 -79.360636  \n",
      "3  43.718518 -79.464763  \n",
      "4  43.662301 -79.389494  \n",
      "    Unnamed: 0 PostalCode           Borough  \\\n",
      "95          95        M8X         Etobicoke   \n",
      "96          96        M4Y  Downtown Toronto   \n",
      "97          97        M7Y      East Toronto   \n",
      "98          98        M8Y         Etobicoke   \n",
      "99          99        M8Z         Etobicoke   \n",
      "\n",
      "                                         Neighborhood   Latitude  Longitude  \n",
      "95      The Kingsway, Montgomery Road, Old Mill North  43.653654 -79.506944  \n",
      "96                               Church and Wellesley  43.665860 -79.383160  \n",
      "97  Business Reply Mail Processing Centre 969 Eastern  43.662744 -79.321558  \n",
      "98  Humber Bay, King's Mill Park, Kingsway Park So...  43.636258 -79.498509  \n",
      "99  Kingsway Park South West, Mimico NW, The Queen...  43.628841 -79.520999  \n"
     ]
    }
   ],
   "source": [
    "Latitude_df = []\n",
    "Longitude_df = []\n",
    "\n",
    "for i in range(len(post_df)):\n",
    "    for j in range(len(post)):\n",
    "        if (post[j]==post_df[i]):\n",
    "            Latitude_df.append(Latitude[j])\n",
    "            Longitude_df.append(Longitude[j])\n",
    "\n",
    "df['Latitude'] = Latitude_df\n",
    "df['Longitude'] = Longitude_df\n",
    "    \n",
    "print(df.head())\n",
    "print(df.tail())\n"
   ]
  },
  {
   "cell_type": "code",
   "execution_count": 23,
   "metadata": {},
   "outputs": [],
   "source": [
    "df.to_csv(\"Neighborhoods_Toronto_Coordinates.csv\")"
   ]
  },
  {
   "cell_type": "code",
   "execution_count": null,
   "metadata": {},
   "outputs": [],
   "source": []
  }
 ],
 "metadata": {
  "kernelspec": {
   "display_name": "Python 3",
   "language": "python",
   "name": "python3"
  },
  "language_info": {
   "codemirror_mode": {
    "name": "ipython",
    "version": 3
   },
   "file_extension": ".py",
   "mimetype": "text/x-python",
   "name": "python",
   "nbconvert_exporter": "python",
   "pygments_lexer": "ipython3",
   "version": "3.7.3"
  }
 },
 "nbformat": 4,
 "nbformat_minor": 2
}
